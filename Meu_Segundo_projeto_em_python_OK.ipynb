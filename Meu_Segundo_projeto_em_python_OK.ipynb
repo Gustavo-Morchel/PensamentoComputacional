{
  "nbformat": 4,
  "nbformat_minor": 0,
  "metadata": {
    "colab": {
      "provenance": [],
      "authorship_tag": "ABX9TyNteNQy+u5Qe2SyZwA3qYzu",
      "include_colab_link": true
    },
    "kernelspec": {
      "name": "python3",
      "display_name": "Python 3"
    },
    "language_info": {
      "name": "python"
    }
  },
  "cells": [
    {
      "cell_type": "markdown",
      "metadata": {
        "id": "view-in-github",
        "colab_type": "text"
      },
      "source": [
        "<a href=\"https://colab.research.google.com/github/Gustavo-Morchel/PensamentoComputacional/blob/main/Meu_Segundo_projeto_em_python_OK.ipynb\" target=\"_parent\"><img src=\"https://colab.research.google.com/assets/colab-badge.svg\" alt=\"Open In Colab\"/></a>"
      ]
    },
    {
      "cell_type": "code",
      "source": [
        "import math"
      ],
      "metadata": {
        "id": "_Tu6LHd0slGf"
      },
      "execution_count": null,
      "outputs": []
    },
    {
      "cell_type": "markdown",
      "source": [
        "1 - Faça um algoritmo em Python para ler dois valores numéricos e apresentar a diferença do maior\n",
        "pelo menor.\n"
      ],
      "metadata": {
        "id": "p-HIIShtsdna"
      }
    },
    {
      "cell_type": "code",
      "execution_count": null,
      "metadata": {
        "id": "fyiUHuADSuPF",
        "colab": {
          "base_uri": "https://localhost:8080/"
        },
        "outputId": "72e6b4c9-8196-45eb-919f-93fbd8c10543"
      },
      "outputs": [
        {
          "output_type": "stream",
          "name": "stdout",
          "text": [
            "Digite um número: 10\n",
            "Digite outro número: 20\n",
            "20.0 é maior que 10.0\n"
          ]
        }
      ],
      "source": [
        "num1 = float(input(\"Digite um número: \"))\n",
        "num2 = float(input(\"Digite outro número: \"))\n",
        "\n",
        "if num1 > num2:  # Se o primeiro for maior\n",
        "  print(num1, \"é maior que\", num2)\n",
        "else:  # Caso contrário (o segundo é maior ou igual)\n",
        "  print(num2, \"é maior que\", num1)\n"
      ]
    },
    {
      "cell_type": "markdown",
      "source": [
        "2. Faça um algoritmo em Python para ler dois números. Se os números forem iguais escrever a\n",
        "mensagem: \"NÚMEROS IGUAIS\" e encerrar a execução; caso contrário, escrever o de maior\n",
        "valor."
      ],
      "metadata": {
        "id": "v-O__OvxtWXm"
      }
    },
    {
      "cell_type": "code",
      "source": [
        "num1 = float(input(\"Digite um número\"))\n",
        "num2 = float(input(\"Digite outro número\"))\n",
        "\n",
        "if num1 == num2:  # Se forem iguais\n",
        "  print(\"NÚMEROS IGUAIS\")\n",
        "elif num1 > num2:  # Se o primeiro for maior\n",
        "  print(num1, \"É maior\")\n",
        "else:  # Se o segundo for maior\n",
        "  print(num2, \"É maior\")\n"
      ],
      "metadata": {
        "colab": {
          "base_uri": "https://localhost:8080/"
        },
        "id": "Fm5tHy3Hte3L",
        "outputId": "7c289677-15de-4efe-c007-e4f21d4a0f58"
      },
      "execution_count": null,
      "outputs": [
        {
          "output_type": "stream",
          "name": "stdout",
          "text": [
            "Digite um número12\n",
            "Digite outro número32\n",
            "32.0 É maior\n"
          ]
        }
      ]
    },
    {
      "cell_type": "markdown",
      "source": [
        "3 - Faça um algoritmo em Python para ler dois valores: NUM1 e NUM2, e se NUM1 for maior que\n",
        "NUM2 executa a soma de NUM1 e NUM2; caso contrário, executa uma subtração."
      ],
      "metadata": {
        "id": "nN3encCmu5d_"
      }
    },
    {
      "cell_type": "code",
      "source": [
        "num1 = float(input(\"Digite um número: \"))\n",
        "num2 = float(input(\"Digite outro número: \"))\n",
        "\n",
        "if num1 > num2:  # Se o primeiro for maior\n",
        "  print(num1 + num2)  # Soma os dois\n",
        "else:  # Caso contrário\n",
        "  print(num2 - num1)  # Subtrai o menor do maior\n"
      ],
      "metadata": {
        "colab": {
          "base_uri": "https://localhost:8080/"
        },
        "id": "He93Y9UzvSdg",
        "outputId": "b49ce408-770e-4538-d2a4-2a4710d0abdf"
      },
      "execution_count": null,
      "outputs": [
        {
          "output_type": "stream",
          "name": "stdout",
          "text": [
            "Digite um número: 10\n",
            "Digite outro número: 20\n",
            "10.0\n"
          ]
        }
      ]
    },
    {
      "cell_type": "markdown",
      "source": [
        "4 - O hotel Pica-Pau cobra R\\$ 150,00 a diária e mais uma taxa de serviços. A taxa de serviços é de:\n",
        "\n",
        "● R\\$ 15 por dia, se número de diárias <15\n",
        "\n",
        "● R\\$ 10 por dia, se número de diárias =15\n",
        "\n",
        "● R\\$ 5 por dia, se número de diárias >15\n",
        "\n",
        "\n",
        "Faça um algoritmo em Python que lê o número de diárias e calcula o total a ser pago pelo cliente."
      ],
      "metadata": {
        "id": "w74ukVMFwGP3"
      }
    },
    {
      "cell_type": "code",
      "source": [
        "dias = int(input(\"Quantos dias você vai ficar no hotel\"))  # Entrada de dias\n",
        "\n",
        "if dias > 15:  # Se ficar mais de 15 dias\n",
        "  print(155 * dias)  # Valor com desconto\n",
        "elif dias == 15:  # Se ficar exatamente 15 dias\n",
        "  print(160 * dias)  # Valor ajustado\n",
        "else:  # Se ficar menos de 15 dias\n",
        "  print(165 * dias)  # Valor mais alto\n"
      ],
      "metadata": {
        "colab": {
          "base_uri": "https://localhost:8080/"
        },
        "id": "1nTUyfLmwNaL",
        "outputId": "a0b4e8e5-c30d-4e12-fd94-59394ec9c3af"
      },
      "execution_count": null,
      "outputs": [
        {
          "output_type": "stream",
          "name": "stdout",
          "text": [
            "Quantos dias você vai ficar no hotel3\n",
            "495\n"
          ]
        }
      ]
    },
    {
      "cell_type": "markdown",
      "source": [
        "5 - Escrever um programa em Python que lê as 3 notas obtidas por ele em provas. Para\n",
        "cada aluno, calcular a média de aproveitamento, usando a fórmula:\n",
        "\n",
        "MA = (Nl + N2 + N3)\n",
        "3\n",
        "\n",
        "A atribuição de conceitos obedece à tabela abaixo:"
      ],
      "metadata": {
        "id": "91nHxAHl0UTx"
      }
    },
    {
      "cell_type": "code",
      "source": [
        "media = 0  # Soma das notas\n",
        "\n",
        "for i in range(3):  # Loop para 3 notas\n",
        "  while True:\n",
        "    num = int(input(\"Digite sua \" + str(i+1) + \"º Nota\"))  # Entrada da nota\n",
        "    if 0 <= num <= 10:  # Verifica se a nota é válida\n",
        "      media += num  # Adiciona à média\n",
        "      print(\"Nota adicionada\")\n",
        "      break  # Sai do loop se a nota for válida\n",
        "    print(\"Nota deve ser entre 0 e 10\")  # Aviso se a nota for inválida\n",
        "\n",
        "mf = media / 3  # Calcula a média\n",
        "print(\"Sua média é\", mf)\n",
        "\n",
        "# Mostra o conceito de acordo com a média\n",
        "if mf >= 9.0:\n",
        "  print(\"A\")\n",
        "elif mf >= 7.5:\n",
        "  print(\"B\")\n",
        "elif mf >= 6.0:\n",
        "  print(\"C\")\n",
        "elif mf >= 4.0:\n",
        "  print(\"D\")\n",
        "else:\n",
        "  print(\"E\")\n",
        "\n",
        "\n"
      ],
      "metadata": {
        "id": "bLRCAL2E0b05",
        "colab": {
          "base_uri": "https://localhost:8080/"
        },
        "outputId": "c92fbcce-9e92-4027-b237-0bf0d992cb11"
      },
      "execution_count": null,
      "outputs": [
        {
          "output_type": "stream",
          "name": "stdout",
          "text": [
            "Digite sua 1º Nota4\n",
            "Nota adicionada\n",
            "Digite sua 2º Nota4\n",
            "Nota adicionada\n",
            "Digite sua 3º Nota4\n",
            "Nota adicionada\n",
            "Sua média é 4.0\n",
            "D\n"
          ]
        }
      ]
    },
    {
      "cell_type": "markdown",
      "source": [
        "6. Faça um programa em Python que leia a altura e o sexo de uma pessoa, calcule seu\n",
        "peso ideal, utilizando as seguintes fórmulas:\n",
        "\n",
        "● homens : (72,7*altura) –58\n",
        "\n",
        "● mulheres : (62,1*altura) – 44,7\n"
      ],
      "metadata": {
        "id": "xUYdmjcTUz2k"
      }
    },
    {
      "cell_type": "code",
      "source": [
        "altura = float(input(\"Digite sua altura\"))  # Entrada da altura\n",
        "sexo = input(\"Digite seu sexo\")  # Entrada do sexo\n",
        "\n",
        "if sexo == \"homem\":  # Se o sexo for homem\n",
        "  imc = (72.7 * altura) - 58  # Cálculo do IMC para homens\n",
        "else:  # Caso o sexo não seja homem\n",
        "  imc = (62.1 * altura) - 44.7  # Cálculo do IMC para mulheres\n",
        "\n",
        "print(\"Seu IMC é de:\", imc)  # Exibe o IMC calculado\n"
      ],
      "metadata": {
        "colab": {
          "base_uri": "https://localhost:8080/"
        },
        "id": "Hv_Zs3TAVC6r",
        "outputId": "95921f3d-0bbe-4c9f-8ddf-adf98977c08e"
      },
      "execution_count": null,
      "outputs": [
        {
          "output_type": "stream",
          "name": "stdout",
          "text": [
            "Digite sua altura1.92\n",
            "Digite seu sexohomem\n",
            "Seu IMC é de:  81.584\n"
          ]
        }
      ]
    },
    {
      "cell_type": "markdown",
      "source": [
        "7. Escrever um programa em Python que lê os seguintes dados de um funcionário: o\n",
        "número de horas trabalhadas e o valor que recebe por hora. Calcular e escrever, o salário\n",
        "bruto (SB) e o valor de desconto do Imposto de Renda (IR) como segue:\n",
        "\n",
        "● Se SB > 3.500,00 então IR = 15% do SB\n",
        "\n",
        "● Se SB > 1.500,00 e SB <= 3.500,00 então IR = 8% do SB\n",
        "\n",
        "● Se SB <= 1.500,00 então IR = 0."
      ],
      "metadata": {
        "id": "w_KviXqxYu7X"
      }
    },
    {
      "cell_type": "code",
      "source": [
        "horas_trab = float(input(\"Digite quantas horas você trabalhou\"))\n",
        "ganho_hora = float(input(\"Digite quanto você ganha por hora\"))\n",
        "\n",
        "sb = horas_trab * ganho_hora  # Cálculo do salário bruto\n",
        "\n",
        "# Verifica a faixa do salário bruto para aplicar o desconto\n",
        "if sb > 3500:  # Se o salário for maior que 3500\n",
        "  sb = sb - (sb * 15 / 100)  # Desconto de 15%\n",
        "  print(\"Seu salário é:\", sb)\n",
        "elif sb > 1500 and sb <= 3500:  # Se o salário for entre 1500 e 3500\n",
        "  sb = sb - (sb * 8 / 100)  # Desconto de 8%\n",
        "  print(\"Seu salário é:\", sb)\n",
        "else:  # Se o salário for até 1500\n",
        "  print(\"Seu salário é:\", sb)  # Exibe o salário sem desconto\n"
      ],
      "metadata": {
        "colab": {
          "base_uri": "https://localhost:8080/"
        },
        "id": "XagV8vlmYzqq",
        "outputId": "e0657a73-0558-40f1-8139-ec2cd42db062"
      },
      "execution_count": null,
      "outputs": [
        {
          "output_type": "stream",
          "name": "stdout",
          "text": [
            "Digite quantas horas você trabalhou160\n",
            "Digite quanto você ganha por hora10\n",
            "Seu salario é:  1472.0\n"
          ]
        }
      ]
    }
  ]
}