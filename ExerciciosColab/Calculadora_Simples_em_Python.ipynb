{
  "nbformat": 4,
  "nbformat_minor": 0,
  "metadata": {
    "colab": {
      "provenance": [],
      "authorship_tag": "ABX9TyNmM0hrXsFGw4bHaISpwvt8",
      "include_colab_link": true
    },
    "kernelspec": {
      "name": "python3",
      "display_name": "Python 3"
    },
    "language_info": {
      "name": "python"
    }
  },
  "cells": [
    {
      "cell_type": "markdown",
      "metadata": {
        "id": "view-in-github",
        "colab_type": "text"
      },
      "source": [
        "<a href=\"https://colab.research.google.com/github/Gustavo-Morchel/PensamentoComputacional/blob/main/Calculadora_Simples_em_Python.ipynb\" target=\"_parent\"><img src=\"https://colab.research.google.com/assets/colab-badge.svg\" alt=\"Open In Colab\"/></a>"
      ]
    },
    {
      "cell_type": "markdown",
      "source": [
        "# Calculadora simples em Python\n",
        " - +, -, *, / , Raiz e Potência"
      ],
      "metadata": {
        "id": "OjvZwkjumOsP"
      }
    },
    {
      "cell_type": "code",
      "execution_count": 37,
      "metadata": {
        "id": "wK1aA72HjUj1"
      },
      "outputs": [],
      "source": [
        "import math\n",
        "\n",
        "def soma(a,b):\n",
        "  return a + b\n",
        "\n",
        "def sub(a,b):\n",
        "  return a - b\n",
        "\n",
        "def mult(a,b):\n",
        "  return a * b\n",
        "\n",
        "def div(a,b):\n",
        "  return a / b\n",
        "\n",
        "def raiz(a,b):\n",
        "  return math.pow(a,1/b)\n",
        "\n",
        "def poten(a,b):\n",
        "  return math.pow(a,b)"
      ]
    },
    {
      "cell_type": "code",
      "source": [
        "op_string = \"Digite:\\n ➕ para Soma\\n ➖ Para Subtração\\n ✖️ Para Multiplicação\\n ➗ Para Divisão\\n ** Para a ^ b\\n // para a raiz b\\n ❌Sair❌ Para fechar o programa\\n\\n\"\n",
        "\n",
        "\n",
        "while True:\n",
        "  operacao = input(op_string)\n",
        "  if operacao == \"sair\":\n",
        "    print(\"\\n\\nSistema Fechado....\")\n",
        "    break\n",
        "\n",
        "\n",
        "  a = float(input(\"Digite o primeiro valor: \"))\n",
        "  b = float(input(\"Digite o segundo valor: \"))\n",
        "\n",
        "\n",
        "  if operacao == \"+\":\n",
        "   print(\"A Soma de:\" , a , \" + \", b , \" = \", soma(a,b) )\n",
        "  elif operacao == \"-\":\n",
        "     print(\"A Subtração de:\" , a , \" - \", b , \" = \", sub(a,b) )\n",
        "  elif operacao == \"*\":\n",
        "     print(\"A Multiplicação de:\" , a , \" * \", b , \" = \", mult(a,b) )\n",
        "  elif operacao == \"/\":\n",
        "    if b == 0:\n",
        "      print(\"🚫Calculo impossivel! Divisão por zero!🚫\")\n",
        "    else:\n",
        "     print(\"A Divisão de:\" , a , \" / \", b , \" = \", div(a,b) )\n",
        "  elif operacao == \"**\":\n",
        "    print(\"A Potência de:\" , a , \" ** \", b , \" = \", poten(a,b) )\n",
        "  elif operacao == \"//\":\n",
        "   print(\"A Raiz de:\" , a , \" // \", b , \" = \", raiz(a,b) )\n",
        "  else:\n",
        "    print(\"❌Operação invalida❌\")\n",
        "\n",
        ""
      ],
      "metadata": {
        "id": "z1aSRBTKm_TF"
      },
      "execution_count": null,
      "outputs": []
    }
  ]
}