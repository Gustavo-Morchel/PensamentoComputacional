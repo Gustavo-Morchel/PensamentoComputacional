{
  "nbformat": 4,
  "nbformat_minor": 0,
  "metadata": {
    "colab": {
      "provenance": [],
      "authorship_tag": "ABX9TyPKySI0hbA4Yc5aDmECwa06",
      "include_colab_link": true
    },
    "kernelspec": {
      "name": "python3",
      "display_name": "Python 3"
    },
    "language_info": {
      "name": "python"
    }
  },
  "cells": [
    {
      "cell_type": "markdown",
      "metadata": {
        "id": "view-in-github",
        "colab_type": "text"
      },
      "source": [
        "<a href=\"https://colab.research.google.com/github/Gustavo-Morchel/PensamentoComputacional/blob/main/Meu_Quarto_projeto_em_python_OK.ipynb\" target=\"_parent\"><img src=\"https://colab.research.google.com/assets/colab-badge.svg\" alt=\"Open In Colab\"/></a>"
      ]
    },
    {
      "cell_type": "markdown",
      "source": [
        "1 - Faça um algoritmo em Python que leia a nota de vários alunos de uma turma. Ao final, deve ser\n",
        "escrita a média geral da turma. A leitura das médias somente encerra quando uma nota negativa\n",
        "for digitada."
      ],
      "metadata": {
        "id": "mdH3flrEDWM1"
      }
    },
    {
      "cell_type": "code",
      "source": [
        "# Inicializamos as variáveis com valor 0\n",
        "contador = 0          # Vai contar quantas notas foram digitadas\n",
        "media = 0             # Vai acumular a soma das notas\n",
        "resultado = 0         # Vai guardar o valor final da média\n",
        "\n",
        "\n",
        "while True:\n",
        "  nota = int(input(\"Digite sua nota, se digitar número negativo o programa fecha: \"))\n",
        "  media += nota\n",
        "  contador += 1\n",
        "\n",
        "  # Verificamos se a nota digitada é negativa\n",
        "  if nota < 0:\n",
        "    break\n",
        "  else:\n",
        "    # Se for positiva, calculamos a média até agora\n",
        "    resultado = media / contador\n",
        "\n",
        "# Mostramos o resultado final da média\n",
        "print(\"Sua média é: \", resultado)\n"
      ],
      "metadata": {
        "colab": {
          "base_uri": "https://localhost:8080/"
        },
        "id": "U3jzC8CqDbGv",
        "outputId": "15d8894f-2f4b-42ce-8e00-205f8a7d9a34"
      },
      "execution_count": null,
      "outputs": [
        {
          "output_type": "stream",
          "name": "stdout",
          "text": [
            "Digite sua nota, se digitar número negativo o programa fecha: 10\n",
            "Digite sua nota, se digitar número negativo o programa fecha: 5\n",
            "Digite sua nota, se digitar número negativo o programa fecha: -1\n",
            "Sua média é:  7.5\n"
          ]
        }
      ]
    },
    {
      "cell_type": "markdown",
      "source": [
        "2 - Faça um programa em Python para repetir a leitura de um número enquanto o valor fornecido for\n",
        "diferente de 0. Para cada número fornecido, escrever se ele é NEGATIVO ou POSITIVO. Quando\n",
        "o número 0 for fornecido o algoritmo deve encerrar informando o usuário."
      ],
      "metadata": {
        "id": "kNU09EJTHpkh"
      }
    },
    {
      "cell_type": "code",
      "source": [
        "num = 0  # Inicializa a variável 'num'\n",
        "while True:  # Inicia um loop que vai rodar infinitamente até o 'break'\n",
        "  num = int(input(\"Digite um número pra saber se ele é positivo ou negativo: \"))\n",
        "\n",
        "  if num == 0:  # Se o número for zero, encerra o programa\n",
        "    print(\"Programa Encerrado\")\n",
        "    break\n",
        "\n",
        "  elif num > 0:  # Se o número for maior que zero, ele é positivo\n",
        "    print(\"Positivo\")\n",
        "\n",
        "  else:  # Se o número for menor que zero, ele é negativo\n",
        "    print(\"Negativo\")\n",
        "\n"
      ],
      "metadata": {
        "colab": {
          "base_uri": "https://localhost:8080/"
        },
        "id": "CisMfc6nHsvJ",
        "outputId": "a1066930-4fa6-4938-9733-692ffd607f3e"
      },
      "execution_count": null,
      "outputs": [
        {
          "output_type": "stream",
          "name": "stdout",
          "text": [
            "Digite um número pra saber se ele é positivo ou negativo: 10\n",
            "Positivo\n",
            "Digite um número pra saber se ele é positivo ou negativo: 10\n",
            "Positivo\n",
            "Digite um número pra saber se ele é positivo ou negativo: -1\n",
            "Negativo\n",
            "Digite um número pra saber se ele é positivo ou negativo: -1\n",
            "Negativo\n",
            "Digite um número pra saber se ele é positivo ou negativo: 0\n",
            "Programa Encerrado\n"
          ]
        }
      ]
    },
    {
      "cell_type": "markdown",
      "source": [
        "3. Faça um programa em Python para ler uma quantidade indeterminada de valores inteiros. Para\n",
        "cada valor fornecido apresentar uma mensagem que indique se o valor fornecido é PAR ou\n",
        "ÍMPAR. O programa será encerrado imediatamente após a leitura de um valor NULO (zero) ou\n",
        "NEGATIVO."
      ],
      "metadata": {
        "id": "8ueEIPIdIcnW"
      }
    },
    {
      "cell_type": "code",
      "source": [
        "while True:  # Loop infinito\n",
        "  num = int(input(\"Digite um número\"))\n",
        "  if num == 0 or num < 0:  # Se número for 0 ou negativo\n",
        "    print(\"Programa Encerrado\")\n",
        "    break\n",
        "  elif num % 2 == 0:\n",
        "    print(\"PAR\")  # Exibe \"PAR\"\n",
        "  else:\n",
        "    print(\"ÍMPAR\")  # Exibe \"ÍMPAR\"\n"
      ],
      "metadata": {
        "colab": {
          "base_uri": "https://localhost:8080/"
        },
        "id": "RqtSvG9YIecJ",
        "outputId": "259cbc0c-227a-4f8f-c51c-dc99a3c0bd96"
      },
      "execution_count": null,
      "outputs": [
        {
          "output_type": "stream",
          "name": "stdout",
          "text": [
            "Digite um número10\n",
            "PAR\n",
            "Digite um número-1\n",
            "Programa Encerrado\n"
          ]
        }
      ]
    },
    {
      "cell_type": "markdown",
      "source": [
        "4. Sabe-se que não existe divisão por zero, para isso faça um programa que leia dois valores inteiros\n",
        "e escreva o resultado da divisão do primeiro pelo segundo. Se o segundo valor informado for\n",
        "ZERO, deve ser impressa uma mensagem de VALOR INVÁLIDO e uma nova leitura do segundo\n",
        "valor deve ser realizada. Ao final do programa deve ser impressa a seguinte mensagem: VOCÊ\n",
        "DESEJA OUTRO CÁLCULO (S/N). Se a resposta for S o programa deverá retornar ao começo,\n",
        "caso contrário deverá encerrar."
      ],
      "metadata": {
        "id": "aB9NZFwbJHsw"
      }
    },
    {
      "cell_type": "code",
      "source": [
        "while True:\n",
        "    num1 = int(input(\"Digite o primeiro valor inteiro: \"))\n",
        "    # Leitura do segundo valor, garantindo que não seja zero\n",
        "    while True:\n",
        "        num2 = int(input(\"Digite o segundo valor inteiro: \"))\n",
        "        if num2 == 0:\n",
        "            print(\"VALOR INVÁLIDO. O segundo valor não pode ser zero.\")\n",
        "        else:\n",
        "            break\n",
        "\n",
        "    # Realiza a divisão\n",
        "    resultado = num1 / num2\n",
        "    print(f\"Resultado da divisão: {resultado}\")\n",
        "\n",
        "    # Pergunta se deseja outro cálculo\n",
        "    resposta = input(\"VOCÊ DESEJA OUTRO CÁLCULO (S/N)? \")\n",
        "    if resposta != 's':\n",
        "        print(\"Programa encerrado.\")\n",
        "        break\n"
      ],
      "metadata": {
        "id": "KWK-ITrLJKSR",
        "colab": {
          "base_uri": "https://localhost:8080/"
        },
        "outputId": "48999bfa-a110-4fa4-e6a9-203005215b26"
      },
      "execution_count": null,
      "outputs": [
        {
          "output_type": "stream",
          "name": "stdout",
          "text": [
            "Digite o primeiro valor inteiro: 10\n",
            "Digite o segundo valor inteiro: 1\n",
            "Resultado da divisão: 10.0\n",
            "VOCÊ DESEJA OUTRO CÁLCULO (S/N)? n\n",
            "Programa encerrado.\n"
          ]
        }
      ]
    },
    {
      "cell_type": "markdown",
      "source": [
        "5 - Faça um programa em Python que verifique a validade de uma senha fornecida pelo usuário. A\n",
        "senha válida é o número 1234.\n",
        "OBS: Se a senha informada pelo usuário for inválida, a mensagem \"ACESSO NEGADO\" deve\n",
        "ser impressa e repetida a solicitação de uma nova senha até que ela seja válida. Caso\n",
        "contrário deve ser impressa a mensagem \"ACESSO PERMITIDO\" junto com um número\n",
        "que representa quantas vezes a senha foi informada.\n"
      ],
      "metadata": {
        "id": "MXfVAuYMYCYL"
      }
    },
    {
      "cell_type": "code",
      "source": [
        "senha_correta = 1234  # Senha correta\n",
        "tentativas = 0  # Contador de tentativas\n",
        "\n",
        "while True:  # Loop infinito\n",
        "    senha = int(input(\"Digite a senha: \"))\n",
        "    tentativas += 1  # Incrementa tentativas\n",
        "\n",
        "    if senha == senha_correta:  # Se a senha estiver correta\n",
        "        print(f\"ACESSO PERMITIDO\\nNúmero de tentativas: {tentativas}\")\n",
        "        break\n",
        "    else:  # Se a senha estiver incorreta\n",
        "        print(\"ACESSO NEGADO\")\n",
        "\n"
      ],
      "metadata": {
        "colab": {
          "base_uri": "https://localhost:8080/"
        },
        "id": "T5N77YbLYCgY",
        "outputId": "e60f9a0f-164e-4036-893a-da4c3212e129"
      },
      "execution_count": null,
      "outputs": [
        {
          "output_type": "stream",
          "name": "stdout",
          "text": [
            "Digite a senha: 15\n",
            "ACESSO NEGADO\n",
            "Digite a senha: 1541451\n",
            "ACESSO NEGADO\n",
            "Digite a senha: 541851\n",
            "ACESSO NEGADO\n",
            "Digite a senha: 15484\n",
            "ACESSO NEGADO\n",
            "Digite a senha: 15615\n",
            "ACESSO NEGADO\n",
            "Digite a senha: 1234\n",
            "ACESSO PERMITIDO\n",
            "Número de tentativas: 6\n"
          ]
        }
      ]
    },
    {
      "cell_type": "markdown",
      "source": [
        "6. Faça um programa em Python que verifique a validade de uma senha fornecida pelo usuário. A\n",
        "senha válida é o número 1234. Se a senha informada pelo usuário for válida a mensagem\n",
        "\"ACESSO PERMITIDO\" deve ser informada. O usuário não terá acesso ao sistema se errar a\n",
        "senha três vezes, neste caso a mensagem \"ACESSO NEGADO\" deve ser informada e a cada vez\n",
        "que o usuário errar a senha, dentro do limite, a mensagem informada será \"SENHA ERRADA,\n",
        "TENTATIVA X DE 3\", sendo o X o número da tentativa."
      ],
      "metadata": {
        "id": "c4nL1IROYf3X"
      }
    },
    {
      "cell_type": "code",
      "source": [
        "senha_correta = 1234\n",
        "tentativas = 0\n",
        "limite_tentativas = 3\n",
        "\n",
        "while tentativas < limite_tentativas:  # Enquanto não atingir o limite\n",
        "    senha = int(input(\"Digite a senha: \"))\n",
        "    tentativas += 1  # Incrementa tentativas\n",
        "\n",
        "    if senha == senha_correta:  # Se a senha estiver correta\n",
        "        print(\"ACESSO PERMITIDO\")\n",
        "        break\n",
        "    else:  # Se a senha estiver incorreta\n",
        "        if tentativas < limite_tentativas:  # Se ainda tiver tentativas\n",
        "            print(f\"SENHA ERRADA, TENTATIVA {tentativas} DE 3\")\n",
        "        else:\n",
        "            print(\"ACESSO NEGADO\")\n"
      ],
      "metadata": {
        "colab": {
          "base_uri": "https://localhost:8080/"
        },
        "id": "NJYtErNoYfdA",
        "outputId": "fc55e5f1-158e-4d48-f468-5444c2c53c9d"
      },
      "execution_count": null,
      "outputs": [
        {
          "output_type": "stream",
          "name": "stdout",
          "text": [
            "Digite a senha: 10\n",
            "SENHA ERRADA, TENTATIVA 1 DE 3\n",
            "Digite a senha: 10\n",
            "SENHA ERRADA, TENTATIVA 2 DE 3\n",
            "Digite a senha: 1234\n",
            "ACESSO PERMITIDO\n"
          ]
        }
      ]
    }
  ]
}