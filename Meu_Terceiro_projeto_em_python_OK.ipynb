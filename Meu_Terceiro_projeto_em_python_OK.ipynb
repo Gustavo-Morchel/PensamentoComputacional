{
  "nbformat": 4,
  "nbformat_minor": 0,
  "metadata": {
    "colab": {
      "provenance": [],
      "authorship_tag": "ABX9TyOlVjHZR0eQow3bIQyeOIhp",
      "include_colab_link": true
    },
    "kernelspec": {
      "name": "python3",
      "display_name": "Python 3"
    },
    "language_info": {
      "name": "python"
    }
  },
  "cells": [
    {
      "cell_type": "markdown",
      "metadata": {
        "id": "view-in-github",
        "colab_type": "text"
      },
      "source": [
        "<a href=\"https://colab.research.google.com/github/Gustavo-Morchel/PensamentoComputacional/blob/main/Meu_Terceiro_projeto_em_python_OK.ipynb\" target=\"_parent\"><img src=\"https://colab.research.google.com/assets/colab-badge.svg\" alt=\"Open In Colab\"/></a>"
      ]
    },
    {
      "cell_type": "markdown",
      "source": [
        "```python\n",
        "1. Transcreva o algoritmo a seguir para Python:\n",
        "ALGORITMO TABUADA_9;\n",
        "VAR\n",
        "N, X, R : INTEIRO;\n",
        "  INICIO\n",
        "    PARA X DE 1 ATE 10 FACA\n",
        "      INICIO\n",
        "         R ← 9 * X;\n",
        "        ESCREVER ( X, ‘ x 9 = ’, R);\n",
        "      FIM;\n",
        "  FIM_PARA;\n",
        "FIM.\n",
        "```"
      ],
      "metadata": {
        "id": "yVsYX5VeiC_d"
      }
    },
    {
      "cell_type": "code",
      "execution_count": null,
      "metadata": {
        "colab": {
          "base_uri": "https://localhost:8080/"
        },
        "id": "-x-i4Xlch6Y4",
        "outputId": "f1ec05c4-1906-4cdd-afb2-bcdec715f6be"
      },
      "outputs": [
        {
          "output_type": "stream",
          "name": "stdout",
          "text": [
            "Digite número pra fazer a tabuada1\n",
            "0 x 1 = 0\n",
            "1 x 1 = 1\n",
            "2 x 1 = 2\n",
            "3 x 1 = 3\n",
            "4 x 1 = 4\n",
            "5 x 1 = 5\n",
            "6 x 1 = 6\n",
            "7 x 1 = 7\n",
            "8 x 1 = 8\n",
            "9 x 1 = 9\n",
            "10 x 1 = 10\n"
          ]
        }
      ],
      "source": [
        "num = int(input(\"Digite número pra fazer a tabuada\"))\n",
        "\n",
        "for i in range(11):  # Loop de 0 a 10\n",
        "  r = num * i  # Calcula o resultado da multiplicação\n",
        "  print(i, \"x\", num, \"=\", r)  # Exibe a tabuada\n"
      ]
    },
    {
      "cell_type": "markdown",
      "source": [
        "2. Faça um programa em Python que mostre todos os números inteiros ímpares situados na faixa\n",
        "de 1000 a 1500."
      ],
      "metadata": {
        "id": "8-_aQnJimvsg"
      }
    },
    {
      "cell_type": "code",
      "source": [
        "for i in range(1001, 1500,2):\n",
        "    print(i)"
      ],
      "metadata": {
        "id": "nommDIBDmxQA"
      },
      "execution_count": null,
      "outputs": []
    },
    {
      "cell_type": "markdown",
      "source": [
        "3. Elabore um programa em Python que calcule e escreva a soma de 10 números lidos."
      ],
      "metadata": {
        "id": "iwUpVzC7nTTP"
      }
    },
    {
      "cell_type": "code",
      "source": [
        "x = 0\n",
        "for i in range(10): # Loop de 10 iterações\n",
        "  x += int(input(\"Digite o \"+ str(i+1) + \"º Número\")) # Soma os números digitados\n",
        "\n",
        "print(\"A soma dos números fornecidos é de\" , x)"
      ],
      "metadata": {
        "colab": {
          "base_uri": "https://localhost:8080/"
        },
        "id": "Jd-NjviSnZLb",
        "outputId": "58105751-446e-438b-c246-1d36d0e08eef"
      },
      "execution_count": null,
      "outputs": [
        {
          "output_type": "stream",
          "name": "stdout",
          "text": [
            "Digite o 1º Número10\n",
            "Digite o 2º Número10\n",
            "Digite o 3º Número10\n",
            "Digite o 4º Número10\n",
            "Digite o 5º Número10\n",
            "Digite o 6º Número10\n",
            "Digite o 7º Número10\n",
            "Digite o 8º Número10\n",
            "Digite o 9º Número10\n",
            "Digite o 10º Número10\n",
            "A soma dos números fornecidos é de 100\n"
          ]
        }
      ]
    },
    {
      "cell_type": "markdown",
      "source": [
        "4. Faça um programa em Python que leia a nota de 10 alunos de uma turma. Ao final, deve ser\n",
        "escrita a média geral da turma.\n"
      ],
      "metadata": {
        "id": "fCL75ueSpaiS"
      }
    },
    {
      "cell_type": "code",
      "source": [
        "x = 0  # Inicializa x\n",
        "\n",
        "for i in range(10):  # Loop de 10 iterações\n",
        "  x += int(input(\"Digite o \" + str(i+1) + \"º Número\"))  # Soma os números fornecidos\n",
        "\n",
        "print(\"A média dos números fornecidos é de\", x / 10)  # Exibe a média dos números\n",
        "1"
      ],
      "metadata": {
        "colab": {
          "base_uri": "https://localhost:8080/"
        },
        "id": "lJUmsWxLpdrB",
        "outputId": "251f1bad-2256-475a-bc60-edaedcba7220"
      },
      "execution_count": null,
      "outputs": [
        {
          "output_type": "stream",
          "name": "stdout",
          "text": [
            "Digite o 1º Número10\n",
            "Digite o 2º Número10\n",
            "Digite o 3º Número10\n",
            "Digite o 4º Número10\n",
            "Digite o 5º Número10\n",
            "Digite o 6º Número10\n",
            "Digite o 7º Número10\n",
            "Digite o 8º Número10\n",
            "Digite o 9º Número0\n",
            "Digite o 10º Número10\n",
            "A média dos números fornecidos é de 9.0\n"
          ]
        }
      ]
    },
    {
      "cell_type": "markdown",
      "source": [
        "5. Faça um programa em Python que leia 5 números. Para cada número fornecido, escreva se\n",
        "ele é NULO, NEGATIVO ou POSITIVO."
      ],
      "metadata": {
        "id": "HzK2IkJrp87K"
      }
    },
    {
      "cell_type": "code",
      "source": [
        "x = 0\n",
        "\n",
        "for i in range(5):  # Loop de 5 iterações\n",
        "  x = int(input(\"Digite o \" + str(i+1) + \"º Número\"))  # Entrada de número\n",
        "  if x > 0:  # Se o número for positivo\n",
        "    print(\"Positivo\")\n",
        "  elif x == 0:  # Se o número for 0\n",
        "    print(\"Nulo\")\n",
        "  else:  # Se o número for negativo\n",
        "    print(\"Negativo\")\n"
      ],
      "metadata": {
        "colab": {
          "base_uri": "https://localhost:8080/"
        },
        "id": "ht4PMtPDq4xd",
        "outputId": "8295c463-c6af-4b21-bb82-0f58ba84ecc7"
      },
      "execution_count": null,
      "outputs": [
        {
          "output_type": "stream",
          "name": "stdout",
          "text": [
            "Digite o 1º Número10\n",
            "Positivo\n",
            "Digite o 2º Número10\n",
            "Positivo\n",
            "Digite o 3º Número10\n",
            "Positivo\n",
            "Digite o 4º Número0\n",
            "Nulo\n",
            "Digite o 5º Número10\n",
            "Positivo\n"
          ]
        }
      ]
    },
    {
      "cell_type": "markdown",
      "source": [
        "6. Ler dois valores inteiros e escrever os números em sequência do menor até maior valor."
      ],
      "metadata": {
        "id": "q9nB_fMYrsmE"
      }
    },
    {
      "cell_type": "code",
      "source": [
        "num1 = int(input(\"Digite um número\"))\n",
        "num2 = int(input(\"Digite outro número\"))\n",
        "\n",
        "if num1 > num2:  # Se o primeiro número for maior que o segundo\n",
        "  for i in range(num2, num1):  # Loop do segundo até o primeiro\n",
        "    print(i+1)\n",
        "else:  # Se o segundo número for maior ou igual\n",
        "  for i in range(num1, num2):  # Loop do primeiro até o segundo\n",
        "    print(i+1)\n"
      ],
      "metadata": {
        "colab": {
          "base_uri": "https://localhost:8080/"
        },
        "id": "DQnaASBYrt9V",
        "outputId": "89eade9e-be1a-4861-b5aa-d90fcf8aa602"
      },
      "execution_count": null,
      "outputs": [
        {
          "output_type": "stream",
          "name": "stdout",
          "text": [
            "Digite um número50\n",
            "Digite outro número30\n",
            "31\n",
            "32\n",
            "33\n",
            "34\n",
            "35\n",
            "36\n",
            "37\n",
            "38\n",
            "39\n",
            "40\n",
            "41\n",
            "42\n",
            "43\n",
            "44\n",
            "45\n",
            "46\n",
            "47\n",
            "48\n",
            "49\n",
            "50\n"
          ]
        }
      ]
    },
    {
      "cell_type": "markdown",
      "source": [
        "7. Faça um programa em Python que escreva os números pares entre 100 e 200."
      ],
      "metadata": {
        "id": "gSpFdKjKu4Yh"
      }
    },
    {
      "cell_type": "code",
      "source": [
        "for i in range(100,200,2):\n",
        "  print(i)"
      ],
      "metadata": {
        "colab": {
          "base_uri": "https://localhost:8080/"
        },
        "id": "Rxp-YdZhu7bT",
        "outputId": "3f84c4ce-211a-4273-f0c7-bc648f93f9ef"
      },
      "execution_count": null,
      "outputs": [
        {
          "output_type": "stream",
          "name": "stdout",
          "text": [
            "100\n",
            "102\n",
            "104\n",
            "106\n",
            "108\n",
            "110\n",
            "112\n",
            "114\n",
            "116\n",
            "118\n",
            "120\n",
            "122\n",
            "124\n",
            "126\n",
            "128\n",
            "130\n",
            "132\n",
            "134\n",
            "136\n",
            "138\n",
            "140\n",
            "142\n",
            "144\n",
            "146\n",
            "148\n",
            "150\n",
            "152\n",
            "154\n",
            "156\n",
            "158\n",
            "160\n",
            "162\n",
            "164\n",
            "166\n",
            "168\n",
            "170\n",
            "172\n",
            "174\n",
            "176\n",
            "178\n",
            "180\n",
            "182\n",
            "184\n",
            "186\n",
            "188\n",
            "190\n",
            "192\n",
            "194\n",
            "196\n",
            "198\n"
          ]
        }
      ]
    },
    {
      "cell_type": "markdown",
      "source": [
        "8. Escrever um programa em Python que leia um valor para n, inteiro e positivo, e escreva a\n",
        "tabuada de n. Com os respectivos valores."
      ],
      "metadata": {
        "id": "HlpZ1R5Jvf26"
      }
    },
    {
      "cell_type": "code",
      "source": [
        "num = int(input(\"Digite número pra fazer a tabuada\"))\n",
        "\n",
        "for i in range(11):\n",
        "  r = num * i\n",
        "  print(i,\"x\", num , \"=\", r) # Exibe a tabuada"
      ],
      "metadata": {
        "id": "DlspB3MXvhRB"
      },
      "execution_count": null,
      "outputs": []
    },
    {
      "cell_type": "markdown",
      "source": [
        "9. Escrever um programa em Python que gera os números de 1000 a 1999 e escreve aqueles\n",
        "que divididos por 11 dão um resto igual a 5."
      ],
      "metadata": {
        "id": "Zt22br5VzsH4"
      }
    },
    {
      "cell_type": "code",
      "source": [
        "for i in range(1000,1999):\n",
        "  if i % 11 == 5:\n",
        "    print(i)"
      ],
      "metadata": {
        "id": "LV5dnmgpzvuu"
      },
      "execution_count": null,
      "outputs": []
    },
    {
      "cell_type": "markdown",
      "source": [
        "10. Faça um programa em Python que leia um número qualquer (N), e realize a soma dos\n",
        "números de 1 até N. Ao final, deve-se escrever o resultado."
      ],
      "metadata": {
        "id": "4RYnjlS50jdz"
      }
    },
    {
      "cell_type": "code",
      "source": [
        "soma = 0  # Inicializa a soma\n",
        "\n",
        "num = int(input(\"Digite um número\"))\n",
        "\n",
        "for i in range(num + 1):  # Loop de 0 até o número digitado\n",
        "   soma += i  # Soma os números de 0 até o número digitado\n",
        "\n",
        "print(soma)  # Exibe o total da soma\n"
      ],
      "metadata": {
        "colab": {
          "base_uri": "https://localhost:8080/"
        },
        "id": "LofDMz-l0mxj",
        "outputId": "98e34c8a-3140-42c8-cd26-364d174cece6"
      },
      "execution_count": null,
      "outputs": [
        {
          "output_type": "stream",
          "name": "stdout",
          "text": [
            "Digite um número10\n",
            "55\n"
          ]
        }
      ]
    },
    {
      "cell_type": "markdown",
      "source": [
        "11. Faça um programa em Python para ler 10 valores inteiros. Para cada valor fornecido escreva\n",
        "uma mensagem que indica se cada valor fornecido é PAR ou ÍMPAR."
      ],
      "metadata": {
        "id": "i-xpAx5k2kPn"
      }
    },
    {
      "cell_type": "code",
      "source": [
        "for i in range(10):  # Loop de 10 iterações\n",
        "  num = int(input(\"Digite um número\"))\n",
        "\n",
        "  if num % 2 == 0:  # Se o número for par\n",
        "    print(\"Par\")\n",
        "  else:  # Se o número for ímpar\n",
        "    print(\"Impar\")\n",
        "\n",
        "\n"
      ],
      "metadata": {
        "colab": {
          "base_uri": "https://localhost:8080/"
        },
        "id": "1TP-r8lH1Cwl",
        "outputId": "1ecce5fb-b449-44a9-ab5c-3d1ab63b2bbd"
      },
      "execution_count": null,
      "outputs": [
        {
          "output_type": "stream",
          "name": "stdout",
          "text": [
            "Digite um número10\n",
            "Par\n",
            "Digite um número9\n",
            "Impar\n",
            "Digite um número8\n",
            "Par\n",
            "Digite um número7\n",
            "Impar\n",
            "Digite um número6\n",
            "Par\n",
            "Digite um número5\n",
            "Impar\n",
            "Digite um número4\n",
            "Par\n",
            "Digite um número3\n",
            "Impar\n",
            "Digite um número2\n",
            "Par\n",
            "Digite um número1\n",
            "Impar\n"
          ]
        }
      ]
    },
    {
      "cell_type": "markdown",
      "source": [
        "12. Faça um programa em Python que leia a idade de 10 alunos, calcule e escreva a média de\n",
        "idade destes.\n"
      ],
      "metadata": {
        "id": "Ck_ErKDA3P4t"
      }
    },
    {
      "cell_type": "code",
      "source": [
        "soma = 0  # Inicializa a soma\n",
        "\n",
        "for i in range(10):  # Loop de 10 iterações\n",
        "  idade = int(input(\"Digite a \" + str(i+1) + \"º Idade\"))\n",
        "\n",
        "  soma += idade  # Soma a idade\n",
        "\n",
        "print(\"A média de idade é de: \", soma / 10)  # Exibe a média das idades\n"
      ],
      "metadata": {
        "id": "EF7Ys3Bw3S71",
        "colab": {
          "base_uri": "https://localhost:8080/"
        },
        "outputId": "4059a4d3-6b3f-4d25-8a44-0bfc3cb439b9"
      },
      "execution_count": null,
      "outputs": [
        {
          "output_type": "stream",
          "name": "stdout",
          "text": [
            "Digite a 1º Idade5\n",
            "Digite a 2º Idade5\n",
            "Digite a 3º Idade5\n",
            "Digite a 4º Idade5\n",
            "Digite a 5º Idade5\n",
            "Digite a 6º Idade5\n",
            "Digite a 7º Idade5\n",
            "Digite a 8º Idade5\n",
            "Digite a 9º Idade5\n",
            "Digite a 10º Idade5\n",
            "A média de idade é de:  5.0\n"
          ]
        }
      ]
    },
    {
      "cell_type": "markdown",
      "source": [
        "13. Faça um algoritmo em Python que leia dois valores inteiros e escreva se eles estão em ordem\n",
        "crescente, decrescente ou são iguais, após isso escreva todos os valores do menor ao maior."
      ],
      "metadata": {
        "id": "-vckz04r4Qmc"
      }
    },
    {
      "cell_type": "code",
      "source": [
        "num1 = int(input(\"Digite o primeiro número\"))\n",
        "num2 = int(input(\"Digite o segundo número\"))\n",
        "\n",
        "if num1 > num2:  # Se o primeiro for maior\n",
        "  print(\"Descrescente\", num1, num2)  # Ordem decrescente\n",
        "\n",
        "elif num1 < num2:  # Se o segundo for maior\n",
        "  print(\"Crescente\", num1, num2)  # Ordem crescente\n",
        "\n",
        "else:  # Se forem iguais\n",
        "  print(\"Iguais\")  # Exibe \"Iguais\"\n",
        "\n"
      ],
      "metadata": {
        "colab": {
          "base_uri": "https://localhost:8080/"
        },
        "id": "XHxUioDm4SUz",
        "outputId": "dbd1e470-f1aa-476c-f674-b627ef5d8b30"
      },
      "execution_count": null,
      "outputs": [
        {
          "output_type": "stream",
          "name": "stdout",
          "text": [
            "Digite o primeiro número20\n",
            "Digite o segundo número10\n",
            "Descrescente 20 10\n"
          ]
        }
      ]
    },
    {
      "cell_type": "markdown",
      "source": [
        "14 - Escrever um programa em Python que lê 10 valores para n, um de cada vez, todos inteiros e\n",
        "positivos, e para cada n lido, escreva a tabuada de 1 até n de n."
      ],
      "metadata": {
        "id": "tRdhk_H56LoT"
      }
    },
    {
      "cell_type": "code",
      "source": [
        "for i in range(10):  # Loop para repetir 10 vezes\n",
        "  n = int(input(\"Digite um número\"))\n",
        "\n",
        "  if n >= 0:  # Se o número for positivo ou zero\n",
        "    for i in range(n):  # Loop de 0 até n-1\n",
        "      r = n * i  # Calcula a multiplicação\n",
        "      print(str(i) + \" X\", n, \"=\", r)  # Exibe a tabuada parcial\n"
      ],
      "metadata": {
        "colab": {
          "base_uri": "https://localhost:8080/"
        },
        "id": "T4dFea7T6RB6",
        "outputId": "d49c3a48-0fac-4e1e-ac25-04dbd53b5333"
      },
      "execution_count": null,
      "outputs": [
        {
          "output_type": "stream",
          "name": "stdout",
          "text": [
            "Digite um número10\n",
            "0 X 10 = 0\n",
            "1 X 10 = 10\n",
            "2 X 10 = 20\n",
            "3 X 10 = 30\n",
            "4 X 10 = 40\n",
            "5 X 10 = 50\n",
            "6 X 10 = 60\n",
            "7 X 10 = 70\n",
            "8 X 10 = 80\n",
            "9 X 10 = 90\n",
            "Digite um número9\n",
            "0 X 9 = 0\n",
            "1 X 9 = 9\n",
            "2 X 9 = 18\n",
            "3 X 9 = 27\n",
            "4 X 9 = 36\n",
            "5 X 9 = 45\n",
            "6 X 9 = 54\n",
            "7 X 9 = 63\n",
            "8 X 9 = 72\n",
            "Digite um número8\n",
            "0 X 8 = 0\n",
            "1 X 8 = 8\n",
            "2 X 8 = 16\n",
            "3 X 8 = 24\n",
            "4 X 8 = 32\n",
            "5 X 8 = 40\n",
            "6 X 8 = 48\n",
            "7 X 8 = 56\n",
            "Digite um número7\n",
            "0 X 7 = 0\n",
            "1 X 7 = 7\n",
            "2 X 7 = 14\n",
            "3 X 7 = 21\n",
            "4 X 7 = 28\n",
            "5 X 7 = 35\n",
            "6 X 7 = 42\n",
            "Digite um número6\n",
            "0 X 6 = 0\n",
            "1 X 6 = 6\n",
            "2 X 6 = 12\n",
            "3 X 6 = 18\n",
            "4 X 6 = 24\n",
            "5 X 6 = 30\n",
            "Digite um número5\n",
            "0 X 5 = 0\n",
            "1 X 5 = 5\n",
            "2 X 5 = 10\n",
            "3 X 5 = 15\n",
            "4 X 5 = 20\n",
            "Digite um número4\n",
            "0 X 4 = 0\n",
            "1 X 4 = 4\n",
            "2 X 4 = 8\n",
            "3 X 4 = 12\n",
            "Digite um número3\n",
            "0 X 3 = 0\n",
            "1 X 3 = 3\n",
            "2 X 3 = 6\n",
            "Digite um número2\n",
            "0 X 2 = 0\n",
            "1 X 2 = 2\n",
            "Digite um número1\n",
            "0 X 1 = 0\n"
          ]
        }
      ]
    },
    {
      "cell_type": "markdown",
      "source": [
        "EXTRA - Escreva um programa que lê um número inteiro N do usuário. O programa deverá escrever na\n",
        "tela o fatorial desse número (N!)."
      ],
      "metadata": {
        "id": "OJUUfh-KlNtV"
      }
    },
    {
      "cell_type": "code",
      "source": [
        "fatorial = 1  # Valor inicial do fatorial\n",
        "\n",
        "num = int(input(\"Digite um número pra ver seu fatorial\"))\n",
        "\n",
        "for i in range(1, num + 1):  # Loop de 1 até o número\n",
        "  fatorial *= i  # Multiplica os valores\n",
        "\n",
        "print(fatorial)  # Exibe o fatorial"
      ],
      "metadata": {
        "id": "xYcWKtth8X_X",
        "colab": {
          "base_uri": "https://localhost:8080/"
        },
        "outputId": "f72649f3-4c23-4bd0-f457-b9328d939972"
      },
      "execution_count": null,
      "outputs": [
        {
          "output_type": "stream",
          "name": "stdout",
          "text": [
            "Digite um número pra ver seu fatorial5\n",
            "120\n"
          ]
        }
      ]
    },
    {
      "cell_type": "markdown",
      "source": [
        "EXTRA 2 - Escreva um programa para uma urna eletrônica. O programa fica lendo os votos até que o\n",
        "usuário informe o valor 4444444 (código de finalização da urna). Após a finalização da urna, o\n",
        "programa deverá escrever na tela a quantidade de votos e o percentual de votos para cada uma\n",
        "das opções abaixo:"
      ],
      "metadata": {
        "id": "Lma0YQwWlSiF"
      }
    },
    {
      "cell_type": "code",
      "source": [
        "# Contadores\n",
        "joao = 0\n",
        "pneu = 0\n",
        "shaolin = 0\n",
        "nulos = 0\n",
        "\n",
        "# Loop de votação\n",
        "while True:\n",
        "    codigo = int(input(\"Códigos válidos para votos:\\n\\n Para João = 77\\n Para Do Pneu = 39\\n Shaolin = 66\\n Para nulo = 0\\n E 4444444 para finalizar a votação\\n\\n\"))\n",
        "\n",
        "    if codigo == 4444444:\n",
        "        break\n",
        "    elif codigo == 77:\n",
        "        joao += 1\n",
        "    elif codigo == 39:\n",
        "        pneu += 1\n",
        "    elif codigo == 66:\n",
        "        shaolin += 1\n",
        "    elif codigo == 0:\n",
        "        nulos += 1\n",
        "\n",
        "    total = joao + pneu + shaolin + nulos\n",
        "    perc_joao = (joao / total) * 100\n",
        "    perc_pneu = (pneu / total) * 100\n",
        "    perc_shaolin = (shaolin / total) * 100\n",
        "    perc_nulos = (nulos / total) * 100\n",
        "\n",
        "# Resultado final\n",
        "print(\"\\n\\n\\nVotos Encerrados\")\n",
        "print(\"João teve\", joao, \"votos\")\n",
        "print(\"Pneu teve\", pneu, \"votos\")\n",
        "print(\"Shaolin teve\", shaolin, \"votos\")\n",
        "print(\"Nulos teve\", nulos, \"votos\\n\")\n",
        "print(\"João teve um percentual de:\", round(perc_joao, 2), \"%\")\n",
        "print(\"Pneu teve um percentual de:\", round(perc_pneu, 2), \"%\")\n",
        "print(\"Shaolin teve um percentual de:\", round(perc_shaolin, 2), \"%\")\n",
        "print(\"Nulos teve um percentual de:\", round(perc_nulos, 2), \"%\")\n"
      ],
      "metadata": {
        "id": "J6i6lCPJlT-I",
        "colab": {
          "base_uri": "https://localhost:8080/"
        },
        "outputId": "ec9eb8a9-e8a9-4942-8ab2-e5cab9d66ef1"
      },
      "execution_count": null,
      "outputs": [
        {
          "output_type": "stream",
          "name": "stdout",
          "text": [
            "Códigos válidos para votos:\n",
            "\n",
            " Para João = 77\n",
            " Para Do Pneu = 39\n",
            " Shaolin = 66\n",
            " Para nulo = 0\n",
            " E 4444444 para finalizar a votação\n",
            "\n",
            "77\n",
            "Códigos válidos para votos:\n",
            "\n",
            " Para João = 77\n",
            " Para Do Pneu = 39\n",
            " Shaolin = 66\n",
            " Para nulo = 0\n",
            " E 4444444 para finalizar a votação\n",
            "\n",
            "39\n",
            "Códigos válidos para votos:\n",
            "\n",
            " Para João = 77\n",
            " Para Do Pneu = 39\n",
            " Shaolin = 66\n",
            " Para nulo = 0\n",
            " E 4444444 para finalizar a votação\n",
            "\n",
            "66\n",
            "Códigos válidos para votos:\n",
            "\n",
            " Para João = 77\n",
            " Para Do Pneu = 39\n",
            " Shaolin = 66\n",
            " Para nulo = 0\n",
            " E 4444444 para finalizar a votação\n",
            "\n",
            "0\n",
            "Códigos válidos para votos:\n",
            "\n",
            " Para João = 77\n",
            " Para Do Pneu = 39\n",
            " Shaolin = 66\n",
            " Para nulo = 0\n",
            " E 4444444 para finalizar a votação\n",
            "\n",
            "77\n",
            "Códigos válidos para votos:\n",
            "\n",
            " Para João = 77\n",
            " Para Do Pneu = 39\n",
            " Shaolin = 66\n",
            " Para nulo = 0\n",
            " E 4444444 para finalizar a votação\n",
            "\n",
            "39\n",
            "Códigos válidos para votos:\n",
            "\n",
            " Para João = 77\n",
            " Para Do Pneu = 39\n",
            " Shaolin = 66\n",
            " Para nulo = 0\n",
            " E 4444444 para finalizar a votação\n",
            "\n",
            "66\n",
            "Códigos válidos para votos:\n",
            "\n",
            " Para João = 77\n",
            " Para Do Pneu = 39\n",
            " Shaolin = 66\n",
            " Para nulo = 0\n",
            " E 4444444 para finalizar a votação\n",
            "\n",
            "4444444\n",
            "\n",
            "\n",
            "\n",
            "Votos Encerrados\n",
            "João teve 2 votos\n",
            "Pneu teve 2 votos\n",
            "Shaolin teve 2 votos\n",
            "Nulos teve 1 votos\n",
            "\n",
            "João teve um percentual de: 28.57 %\n",
            "Pneu teve um percentual de: 28.57 %\n",
            "Shaolin teve um percentual de: 28.57 %\n",
            "Nulos teve um percentual de: 14.29 %\n"
          ]
        }
      ]
    }
  ]
}