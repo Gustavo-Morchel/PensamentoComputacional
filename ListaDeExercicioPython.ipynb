{
  "nbformat": 4,
  "nbformat_minor": 0,
  "metadata": {
    "colab": {
      "provenance": [],
      "authorship_tag": "ABX9TyNlGUR71CTiGv7jfLYNUeMc",
      "include_colab_link": true
    },
    "kernelspec": {
      "name": "python3",
      "display_name": "Python 3"
    },
    "language_info": {
      "name": "python"
    }
  },
  "cells": [
    {
      "cell_type": "markdown",
      "metadata": {
        "id": "view-in-github",
        "colab_type": "text"
      },
      "source": [
        "<a href=\"https://colab.research.google.com/github/Gustavo-Morchel/PensamentoComputacional/blob/main/ListaDeExercicioPython.ipynb\" target=\"_parent\"><img src=\"https://colab.research.google.com/assets/colab-badge.svg\" alt=\"Open In Colab\"/></a>"
      ]
    },
    {
      "cell_type": "markdown",
      "source": [
        "# Lista de Exercicios em Python"
      ],
      "metadata": {
        "id": "NbvLNw-m8kFG"
      }
    },
    {
      "cell_type": "code",
      "source": [
        "#Bibliotecas\n",
        "import math"
      ],
      "metadata": {
        "id": "fArhWfhsCJby"
      },
      "execution_count": null,
      "outputs": []
    },
    {
      "cell_type": "markdown",
      "source": [
        "1. Faça em Python um algoritmo que leia um número inteiro qualquer. O algoritmo deve calcular e escrever o\n",
        "quadrado, a raiz quadrada, e a divisão do quadrado pela raiz quadrada do número lido.\n"
      ],
      "metadata": {
        "id": "VauuM4Sw8xY-"
      }
    },
    {
      "cell_type": "code",
      "execution_count": null,
      "metadata": {
        "id": "B890E41q8J87",
        "colab": {
          "base_uri": "https://localhost:8080/"
        },
        "outputId": "1f7faba7-1102-4d2c-b19f-111b7fcb5436"
      },
      "outputs": [
        {
          "output_type": "stream",
          "name": "stdout",
          "text": [
            "Informe um número inteiro qualquer:9\n",
            "O quadrado de 9 é 81\n",
            "A raiz quadrada de 9 é 3.0\n",
            "A divisão do quadrado pela raiz de 9 é 27.0\n"
          ]
        }
      ],
      "source": [
        "# Algoritimo de calculo de quadrado,raiz quadrada e divisão do quadrado pela raiz quadrada\n",
        "\n",
        "#Vars\n",
        "n = 0\n",
        "quad = 0\n",
        "raiz = 0.0\n",
        "div_qua_raiz = 0.0\n",
        "\n",
        "#Inicio\n",
        "n = int(input(\"Informe um número inteiro qualquer:\"))\n",
        "\n",
        "#Quadrado de n\n",
        "quad = n ** 2\n",
        "\n",
        "#Raiz quadrada\n",
        "raiz = math.sqrt(n)\n",
        "\n",
        "#Divisão do quadrado pela raiz\n",
        "div_qua_raiz = quad / raiz\n",
        "\n",
        "print(\"O quadrado de\", n, \"é\", quad,)\n",
        "print(\"A raiz quadrada de\", n,\"é\",raiz)\n",
        "print(\"A divisão do quadrado pela raiz de\", n,\"é\",div_qua_raiz)"
      ]
    },
    {
      "cell_type": "markdown",
      "source": [
        "2. Faça em Python um algoritmo que calcule e escreva o preço final de um computador, sendo fornecido o preço de fábrica. O preço final do computador é calculado com base nos adicionais de: 30 % de imposto e 10 % de revenda sobre o preço de fábrica."
      ],
      "metadata": {
        "id": "agIG47KQuqSU"
      }
    },
    {
      "cell_type": "code",
      "source": [
        "n = float(input(\"Informe o preço de fábrica do item: \"))  # Entrada do preço de fábrica\n",
        "\n",
        "# Cálculo do preço final com 30% de lucro e 10% de imposto, arredondado para 2 casas decimais\n",
        "print(\"O valor do computador é\", round(n * 1.3 * 1.1, 2))  # Exibe o valor final\n"
      ],
      "metadata": {
        "id": "_6UyN5Rpuqtd",
        "colab": {
          "base_uri": "https://localhost:8080/"
        },
        "outputId": "948f9270-1778-4374-fb05-4e0db18fb287"
      },
      "execution_count": null,
      "outputs": [
        {
          "output_type": "stream",
          "name": "stdout",
          "text": [
            "Informe o preço de fabrica do item: 2000\n",
            "O valor do computador é 2860.0\n"
          ]
        }
      ]
    },
    {
      "cell_type": "markdown",
      "source": [
        "3 - Faça um algoritmo em Python que leia três números inteiros e calcule a sua média. Ao final, o algoritmo deve escrever os números lidos e o resultado da média.\n"
      ],
      "metadata": {
        "id": "hWjgPCyHutFa"
      }
    },
    {
      "cell_type": "code",
      "source": [
        "n1 = float(input(\"Insira o primeiro número: \"))  # Entrada do primeiro número\n",
        "n2 = float(input(\"Insira o segundo número: \"))  # Entrada do segundo número\n",
        "n3 = float(input(\"Insira o terceiro número: \"))  # Entrada do terceiro número\n",
        "\n",
        "# Cálculo e exibição da média dos três números\n",
        "print(\"A média dos números é\", (n1 + n2 + n3) / 3)\n",
        "22"
      ],
      "metadata": {
        "id": "gfKhcKoeuvyD",
        "colab": {
          "base_uri": "https://localhost:8080/"
        },
        "outputId": "bc1a2075-279c-4c22-e695-fa17d459bc56"
      },
      "execution_count": null,
      "outputs": [
        {
          "output_type": "stream",
          "name": "stdout",
          "text": [
            "Insira o primeiro número: 20\n",
            "Insira o segundo número: 0\n",
            "Insira o terceiro número: 0\n",
            "A média dos números é 6.666666666666667\n"
          ]
        }
      ]
    },
    {
      "cell_type": "markdown",
      "source": [
        "4 - Fazer um algoritmo em Python que calcule o número de litros de combustível gastos em uma viagem, sabendo-se que o carro faz 12 km com um litro. Deverão ser lidos o tempo gasto na viagem e a velocidade média. Aplicar as seguintes fórmulas:\n",
        "Distância = tempo gasto x velocidade média\n",
        "litros gastos = distância / 12"
      ],
      "metadata": {
        "id": "6h89uxNVu35L"
      }
    },
    {
      "cell_type": "code",
      "source": [
        "v = float(input(\"Insira a velocidade média da viagem: \"))  # Entrada da velocidade média\n",
        "h = float(input(\"Insira a duração da viagem: \"))  # Entrada da duração da viagem\n",
        "\n",
        "# Cálculo da quantidade de litros de combustível gasto\n",
        "print(\"Foram gastos\", round(v * h / 12, 2), \"litros\")  # Exibe a quantidade de litros gastos\n"
      ],
      "metadata": {
        "id": "aLKCqCQ4u53a",
        "colab": {
          "base_uri": "https://localhost:8080/"
        },
        "outputId": "14f534b7-c4b6-4fad-96f3-8c13882be025"
      },
      "execution_count": null,
      "outputs": [
        {
          "output_type": "stream",
          "name": "stdout",
          "text": [
            "Insira a velocidade média da viagem: 50\n",
            "Insira a duração da viagem: 1\n",
            "Foram gastos 4.17 litros\n"
          ]
        }
      ]
    },
    {
      "cell_type": "markdown",
      "source": [
        "5 - Faça em Python um algoritmo que leia dois números inteiros (x e y), e calcule o quociente e o resto da divisão de x por y e escreva os resultados."
      ],
      "metadata": {
        "id": "8v8buyKvu8k7"
      }
    },
    {
      "cell_type": "code",
      "source": [
        "x = int(input(\"Insira um número inteiro: \"))  # Entrada do primeiro número inteiro\n",
        "y = int(input(\"Insira um número inteiro: \"))  # Entrada do segundo número inteiro\n",
        "\n",
        "# Exibe o quociente da divisão inteira\n",
        "print(\"O quociente da divisão é\", x // y)\n",
        "\n",
        "# Exibe o resto da divisão\n",
        "print(\"O resto da divisão é\", x % y)\n"
      ],
      "metadata": {
        "id": "l_QNFZU_u_JK",
        "colab": {
          "base_uri": "https://localhost:8080/"
        },
        "outputId": "7d87562d-ebbb-4527-b0b1-ddef6db353ea"
      },
      "execution_count": null,
      "outputs": [
        {
          "output_type": "stream",
          "name": "stdout",
          "text": [
            "Insira um número inteiro: 10\n",
            "Insira um número inteiro: 20\n",
            "O quociente da divisão é 0\n",
            "O resto da divisão é 10\n"
          ]
        }
      ]
    },
    {
      "cell_type": "markdown",
      "source": [
        "6 - Escreva em python um algoritmo que leia três números reais (a, b, c), e calcule a média aritmética. Após os cálculos, os resultados deverão ser escritos."
      ],
      "metadata": {
        "id": "vqBm2AB6vDsb"
      }
    },
    {
      "cell_type": "code",
      "source": [
        "a = float(input(\"Insira o primeiro número: \"))  # Entrada do primeiro número\n",
        "b = float(input(\"Insira o segundo número: \"))  # Entrada do segundo número\n",
        "c = float(input(\"Insira o terceiro número: \"))  # Entrada do terceiro número\n",
        "\n",
        "# Cálculo e exibição da média dos três números\n",
        "print(\"A média de\", a, \",\", b, \"e\", c, \"é\", (a + b + c) / 3)\n"
      ],
      "metadata": {
        "id": "-p-x1-hlvEAs",
        "colab": {
          "base_uri": "https://localhost:8080/"
        },
        "outputId": "db330cbb-489a-4fc7-bccf-4f4e2d7b4458"
      },
      "execution_count": null,
      "outputs": [
        {
          "output_type": "stream",
          "name": "stdout",
          "text": [
            "Insira o primeiro número: 10\n",
            "Insira o segundo número: 10\n",
            "Insira o terceiro número: 10\n",
            "A média de 10.0 , 10.0 e 10.0 é 10.0\n"
          ]
        }
      ]
    },
    {
      "cell_type": "markdown",
      "source": [
        "7 - Uma loja de equipamentos de informática resolveu incentivar os seus funcionários a venderem no mês março. Para cada produto vendido, a loja dará uma bonificação de 1%, sobre o salário do funcionário. Desta forma, o funcionário que vender 10 produtos, terá um acréscimo de 10% em seu salário. Faça um algoritmo em Python que leia o código, o nome e o salário fixo do funcionário, além do número de produtos vendidos por ele no mês, e calcule o salário final do funcionário. Por fim, o algoritmo deve escrever o código e o nome do funcionário, juntamente com o seu salário final."
      ],
      "metadata": {
        "id": "zLWr2nHvvGzp"
      }
    },
    {
      "cell_type": "code",
      "source": [
        "c = input('Insira o código do vendedor: ')  # Entrada do código do vendedor\n",
        "n = input('Insira o nome do vendedor: ')  # Entrada do nome do vendedor\n",
        "s = float(input('Insira o salário base do vendedor: R$ '))  # Entrada do salário base\n",
        "i = int(input('Insira quantos produtos foram vendidos: '))  # Entrada do número de produtos vendidos\n",
        "\n",
        "# Cálculo do salário final considerando 1% a mais por produto vendido\n",
        "print(\"O vendedor\", n, \", código\", c, \"tem o salário final de R$\", str(round(s * (1 + i * 0.01), 2)))\n"
      ],
      "metadata": {
        "id": "FoUtdrOmvKhy",
        "colab": {
          "base_uri": "https://localhost:8080/"
        },
        "outputId": "f56423c0-ec20-4535-e84e-d4144da3ac3d"
      },
      "execution_count": null,
      "outputs": [
        {
          "output_type": "stream",
          "name": "stdout",
          "text": [
            "Insira o código do vendedor: 10\n",
            "Insira o nome do vendedor: Gustavo\n",
            "Insira o salário base do vendedor: R$ 500000\n",
            "Insira quantos produtos foram vendidos: 45\n",
            "O vendedor Gustavo , código 10 tem o salário final de R$ 725000.0\n"
          ]
        }
      ]
    },
    {
      "cell_type": "markdown",
      "source": [
        "8 - Construa um algoritmo em Python que calcule a quantidade de latas de tintas necessárias e o custo para pintar tanques cilíndricos de combustível, onde são fornecidos a altura e o raio deste cilindro. Sabendo que:\n",
        "● a lata de tinta custa R$ 150,00\n",
        "\n",
        "● cada lata contém 5 litros;\n",
        "\n",
        "● cada litro de tinta pinta 3 metros quadrados;\n",
        "\n",
        "● a área do total cilindro é dada por área da base + área lateral;\n",
        "\n",
        "● a área da base do cilindro é dada π*raio2\n",
        "\n",
        "● a área da lateral é 2πraio*altura.\n",
        "\n",
        "● Lembrando que π (pi) vale 3,14."
      ],
      "metadata": {
        "id": "yUxEnePrvLMx"
      }
    },
    {
      "cell_type": "code",
      "source": [
        "import math\n",
        "\n",
        "# Entrada (com troca de vírgula por ponto)\n",
        "altura = float(input(\"Insira a altura do Cilindro: \").replace('.', '').replace(',', '.'))\n",
        "raio = float(input(\"Insira o raio do Cilindro: \").replace('.', '').replace(',', '.'))\n",
        "\n",
        "# Cálculo da área total do cilindro\n",
        "area_lateral = 2 * math.pi * raio * altura\n",
        "area_bases = 2 * math.pi * raio**2\n",
        "area_total = area_lateral + area_bases\n",
        "litros_tinta = area_total / 3\n",
        "\n",
        "# Cálculo dos barris de 5L (arredondando pra cima)\n",
        "barris = int(litros_tinta // 5) + (1 if litros_tinta % 5 != 0 else 0)\n",
        "\n",
        "# Preço por barril\n",
        "preco_total = barris * 150\n",
        "\n",
        "# Resultado\n",
        "print(f\"Serão necessários {round(litros_tinta,2)} litros de tinta.\")\n",
        "print(f\"Você precisará de {barris} barris, custando R$ {preco_total}\")\n"
      ],
      "metadata": {
        "id": "3HQWdO3rvOIS",
        "colab": {
          "base_uri": "https://localhost:8080/"
        },
        "outputId": "25bb1d88-699b-4924-fcf1-8af946140bcc"
      },
      "execution_count": null,
      "outputs": [
        {
          "output_type": "stream",
          "name": "stdout",
          "text": [
            "Insira a altura do Cilindro: 50\n",
            "Insira o raio do Cilindro: 20\n",
            "Serão necessários 2932.15 litros de tinta.\n",
            "Você precisará de 587 barris, custando R$ 88050\n"
          ]
        }
      ]
    },
    {
      "cell_type": "markdown",
      "source": [
        "9 - Elabore um algoritmo em Python para calcular e escrever o preço final de um computador, sendo fornecido o preço de fábrica. O preço final do computador é calculado com base nos adicionais 45 % de imposto e 28 % de revenda sobre o preço de fábrica."
      ],
      "metadata": {
        "id": "Nl478_SgvR6R"
      }
    },
    {
      "cell_type": "code",
      "source": [
        "prcB = float(input(\"Insira o preço base do computador: \"))  # Entrada do preço base\n",
        "\n",
        "# Calcula o preço com 45% de lucro e 28% de impostos\n",
        "print('O preço de venda é R$' + str(prcB * 1.45 * 1.28))\n"
      ],
      "metadata": {
        "id": "AdbnEmuOvUa0",
        "colab": {
          "base_uri": "https://localhost:8080/"
        },
        "outputId": "4cd4a627-358c-46e4-c491-2a3937e859ac"
      },
      "execution_count": null,
      "outputs": [
        {
          "output_type": "stream",
          "name": "stdout",
          "text": [
            "Insira o preço base do computador: 15000\n",
            "O preço de venda é R$27840.0\n"
          ]
        }
      ]
    },
    {
      "cell_type": "markdown",
      "source": [
        "10 - Uma revendedora de carros usados paga aos seus funcionários vendedores, um salário fixo por mês, mais uma comissão para cada carro vendido. Escreva um algoritmo em Python que leia o número do vendedor, o seu salário fixo, o número de carros por ele vendidos, e o valor que recebe por carro vendido, e calcule o salário mensal do vendedor, escrevendo-o juntamente com o seu número de identificação."
      ],
      "metadata": {
        "id": "ZEuHyeh0vXKM"
      }
    },
    {
      "cell_type": "code",
      "source": [
        "cod = input(\"Insira seu código: \")  # Código do vendedor\n",
        "sal = float(input(\"Insira seu salário fixo: \"))  # Salário fixo\n",
        "n = int(input(\"Insira quantos carros foram vendidos: \"))  # Quantidade de carros vendidos\n",
        "com = float(input(\"Insira quanto é a comissão por carro: \"))  # Comissão por carro vendido\n",
        "\n",
        "# Calcula o salário final com base no salário fixo + comissão total\n",
        "print(\"O vendedor código:\", cod, \"receberá: R$\" + str(sal + (com * n)))\n"
      ],
      "metadata": {
        "id": "1zswSVHnvYQD"
      },
      "execution_count": null,
      "outputs": []
    },
    {
      "cell_type": "markdown",
      "source": [
        "11 - Uma empresa, para emitir a sua folha de pagamento mensal, trabalha com os seguintes dados:\n",
        "Relativos ao Sistema de Pagamentos\n",
        "\n",
        "Valor da Hora Normal = R$ 8,00\n",
        "\n",
        "Valor da Hora Extra = R$ 9,50\n",
        "\n",
        "Valor do Acréscimo por Dependente = RS 2,50\n",
        "\n",
        "Relativos a cada Funcionário\n",
        "\n",
        "Número de Identificação\n",
        "\n",
        "Nome\n",
        "\n",
        "Número de horas normais trabalhadas\n",
        "\n",
        "Número de horas extras trabalhadas\n",
        "\n",
        "Número de dependentes\n",
        "\n",
        "O cálculo do salário de cada funcionário é feito em 3 etapas:\n",
        "\n",
        "Etapa 1 : Cálculo do Salário Bruto\n",
        "\n",
        "SALARIO BRUTO = Valor Total de Horas Normais + Valor Total de Horas Extras +\n",
        "\n",
        "Valor Total de Dependentes\n",
        "\n",
        "Etapa 2 : Descontos\n",
        "\n",
        "Todos os funcionários são isentos de imposto de renda, e descontam 5% do\n",
        "\n",
        "salário bruto para o INSS. Etapa 3 : Salário Líquido\n",
        "\n",
        "SALARIO LÍQUIDO = SALARIO BRUTO - DESCONTO\n",
        "\n",
        "Escrever um algoritmo em Python que leia os dados referentes ao funcionário, calcule e escreva o salário líquido do funcionário da empresa. Obs.: Além do salário líquido, escreva o número de identificação e o nome do funcionário."
      ],
      "metadata": {
        "id": "cEx2T2jWvaCc"
      }
    },
    {
      "cell_type": "code",
      "source": [
        "ni = input(\"Insira o número de identificação: \")  # ID do funcionário\n",
        "nome = input(\"Insira o seu nome: \")  # Nome do funcionário\n",
        "nh = int(input(\"Insira quantas horas normais foram trabalhadas: \"))  # Horas normais\n",
        "ne = int(input(\"Insira quantas horas extras foram trabalhadas: \"))  # Horas extras\n",
        "nd = int(input(\"Insira o número de dependentes: \"))  # Número de dependentes\n",
        "\n",
        "# Cálculo do salário com desconto de 5%\n",
        "sal = 0.95 * (nh * 8 + ne * 9.5 + nd * 2.5)\n",
        "\n",
        "# Mostra o resultado\n",
        "print(\"O funcionário número\", ni + \",\", nome, \"receberá o salário líquido de R$\" + str(round(sal, 2)))\n"
      ],
      "metadata": {
        "id": "DSYVzDicvde8"
      },
      "execution_count": null,
      "outputs": []
    }
  ]
}